{
 "cells": [
  {
   "cell_type": "code",
   "execution_count": 1,
   "metadata": {},
   "outputs": [],
   "source": [
    "def calculate_last_standing_man(starting_man, skip_count, man_count):\n",
    "    list = generate_list(man_count)\n",
    "\n",
    "\n",
    "    assert len(list) == man_count, \"list is the wrong size\"\n",
    "    assert list[0] == 1, \"wrong index for  number one\"\n",
    "\n",
    "    index = starting_man - 1\n",
    "    while len(list) > 1 :\n",
    "        list.pop(index)\n",
    "        index = (index-1 + skip_count) % len(list)\n",
    "\n",
    "    \n",
    "    assert(len(list) == 1), \"To many people survived >:/\"\n",
    "\n",
    "    return list[0]\n",
    "\n",
    "\n",
    "def generate_list(man_count):\n",
    "    return list(range(1, man_count+1))\n",
    "\n"
   ]
  },
  {
   "cell_type": "code",
   "execution_count": 2,
   "metadata": {},
   "outputs": [
    {
     "data": {
      "text/plain": [
       "'1 1 1 4 3 6 3 6 9 3 6 9 12 1 4 7 10 13 16 19 1 4 7 10 13 16 19 22 25 28 31 3 6 9 12 15 18 21 24 27 30 33 36 39 42 45 1 4 7 10 13 16 19 22 25 28 31 34 37 40 43 46 49 52 55 58 61 64 67 70 3 6 9 12 15 18 21 24 27 30 33 36 39 42 45 48 51 54 57 60 63 66 69 72 75 78 81 84 87 90'"
      ]
     },
     "execution_count": 2,
     "metadata": {},
     "output_type": "execute_result"
    }
   ],
   "source": [
    "\n",
    "assert calculate_last_standing_man(2, 3, 10) == 3\n",
    "assert calculate_last_standing_man(\n",
    "    2, 3, 9) == 9, \"received \" + str(calculate_last_standing_man(2, 3, 9))\n",
    "assert calculate_last_standing_man(\n",
    "    2, 3, 8) == 6, \"received \" + str(calculate_last_standing_man(2, 3, 8))\n",
    "assert calculate_last_standing_man(\n",
    "    2, 3, 7) == 3,  \"received \" + str(calculate_last_standing_man(2, 3, 7))\n",
    "assert calculate_last_standing_man(\n",
    "    2, 3, 1) == 1,  \"received \" + str(calculate_last_standing_man(2, 3, 1))\n",
    "assert calculate_last_standing_man(\n",
    "    2, 3, 100) == 90,  \"received \" + str(calculate_last_standing_man(2, 3, 100))\n",
    "\n",
    "myOldString = \"\"\n",
    "mycorrectList = []\n",
    "\n",
    "for x in range(1, 101):\n",
    "    tempvalue = (calculate_last_standing_man(2, 3, x))\n",
    "\n",
    "    mycorrectList.append(tempvalue)\n",
    "    if(x == 100):\n",
    "        myOldString += str(calculate_last_standing_man(2, 3, x))\n",
    "    else:\n",
    "        myOldString += str(calculate_last_standing_man(2, 3, x))+\" \"\n",
    "\n",
    "\n",
    "myOldString\n"
   ]
  },
  {
   "cell_type": "markdown",
   "metadata": {},
   "source": [
    "# ue 2"
   ]
  },
  {
   "cell_type": "markdown",
   "metadata": {},
   "source": [
    "rek solution for starting by 1"
   ]
  },
  {
   "cell_type": "code",
   "execution_count": 3,
   "metadata": {},
   "outputs": [],
   "source": [
    "from math import floor\n",
    "\n",
    "\n",
    "# def j(n):\n",
    "#     if n == 1:\n",
    "#         return 1\n",
    "#     elif n%3 == 0:\n",
    "#         temp = j(2*n/3)\n",
    "#         return (int)( temp + floor((temp-1)/2))\n",
    "#     elif n%3 == 1:\n",
    "#         temp = j(floor(2*n/3))\n",
    "#         return (int)((temp + 3 + floor((temp-1)/2) - 1) % n + 1)\n",
    "#     elif n%3 == 2:\n",
    "#         temp = j(floor(2*n/3))\n",
    "#         return (int)(temp + floor(temp/2) + 1)\n",
    "\n",
    "\n",
    "\n"
   ]
  },
  {
   "cell_type": "code",
   "execution_count": 11,
   "metadata": {},
   "outputs": [
    {
     "name": "stdout",
     "output_type": "stream",
     "text": [
      "1 1 1 4 3 6 3 6 9 3 6 9 12 1 4 7 10 13 16 19 1 4 7 10 13 16 19 22 25 28 31 3 6 9 12 15 18 21 24 27 30 33 36 39 42 45 1 4 7 10 13 16 19 22 25 28 31 34 37 40 43 46 49 52 55 58 61 64 67 70 3 6 9 12 15 18 21 24 27 30 33 36 39 42 45 48 51 54 57 60 63 66 69 72 75 78 81 84 87 90\n",
      "1 1 1 4 3 6 3 6 9 3 6 9 12 1 4 7 10 13 16 19 1 4 7 10 13 16 19 22 25 28 31 3 6 9 12 15 18 21 24 27 30 33 36 39 42 45 1 4 7 10 13 16 19 22 25 28 31 34 37 40 43 46 49 52 55 58 61 64 67 70 3 6 9 12 15 18 21 24 27 30 33 36 39 42 45 48 51 54 57 60 63 66 69 72 75 78 81 84 87 90\n"
     ]
    },
    {
     "data": {
      "text/plain": [
       "1694465823740560"
      ]
     },
     "execution_count": 11,
     "metadata": {},
     "output_type": "execute_result"
    }
   ],
   "source": [
    "from math import floor\n",
    "\n",
    "\n",
    "def j(n):\n",
    "    if n == 1:\n",
    "        return 1\n",
    "    elif n%3 == 0:\n",
    "        temp = j(2*n/3)\n",
    "        return (int)(temp + floor((temp-1)/2) )\n",
    "    elif n%3 == 1:\n",
    "        temp = j(floor(2*n/3))\n",
    "        return (int)((temp + 3 + floor((temp-1)/2) - 1) % n + 1)\n",
    "    elif n%3 == 2:\n",
    "        temp = j(floor(2*n/3))\n",
    "        return (int)(temp + floor(temp/2) + 1)\n",
    "\n",
    "def j_start2(n):\n",
    "    solution = j(n)\n",
    "\n",
    "    if solution == 1:\n",
    "        solution = n\n",
    "    else :\n",
    "        solution = solution -1\n",
    "    return solution\n",
    "\n",
    "solution_rek = \"\"\n",
    "solution_brute_force = \"\"\n",
    "for x in range(1, 101):\n",
    "    solution = j_start2(x)\n",
    "    if(x == 100):\n",
    "        solution_rek += str(solution)\n",
    "        solution_brute_force += str(calculate_last_standing_man(2, 3, x))\n",
    "    else:\n",
    "        solution_rek += str(solution)+\" \"\n",
    "        solution_brute_force += str(calculate_last_standing_man(2, 3, x))+\" \"\n",
    "\n",
    "print(solution_rek)\n",
    "print(solution_brute_force)\n",
    "solution_rek == solution_brute_force\n",
    "\n",
    "\n",
    "j_start2(1694465823740560)\n"
   ]
  }
 ],
 "metadata": {
  "interpreter": {
   "hash": "faccb887b532e4c2bac1681693a6c66f7a690d7167d08b60b807f946029a41e7"
  },
  "kernelspec": {
   "display_name": "Python 3.8.5 ('base')",
   "language": "python",
   "name": "python3"
  },
  "language_info": {
   "codemirror_mode": {
    "name": "ipython",
    "version": 3
   },
   "file_extension": ".py",
   "mimetype": "text/x-python",
   "name": "python",
   "nbconvert_exporter": "python",
   "pygments_lexer": "ipython3",
   "version": "3.8.5"
  },
  "orig_nbformat": 4
 },
 "nbformat": 4,
 "nbformat_minor": 2
}
